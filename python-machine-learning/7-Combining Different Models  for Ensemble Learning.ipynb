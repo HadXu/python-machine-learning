{
 "metadata": {
  "name": ""
 },
 "nbformat": 3,
 "nbformat_minor": 0,
 "worksheets": [
  {
   "cells": [
    {
     "cell_type": "markdown",
     "metadata": {},
     "source": [
      "#Combining Different Models for Ensemble Learning\n",
      "\n",
      "*  Make predictions based on majority voting\n",
      "\n",
      "* Reduce overfitting by drawing random combinations of the training set with repetition\n",
      "\n",
      "* Build powerful models from weak learners that learn from their mistakes"
     ]
    },
    {
     "cell_type": "markdown",
     "metadata": {},
     "source": [
      "##Summary\n",
      "\u5728\u8fd9\u4e00\u7ae0\u4e2d\uff0c\u7531\u4e8e\u8fc7\u4e8e\u7406\u8bba\u5316\uff0c\u4e8e\u662f\u672c\u4eba\u5c31\u8df3\u8fc7\u5b66\u4e60\uff0c\u5f53\u638c\u63e1\u4e00\u5b9a\u7684\u673a\u5668\u5b66\u4e60\u6280\u5de7\u540e\uff0c\u770b\u6b64\u7ae0\u5e94\u8be5\u4f1a\u6709\u66f4\u5927\u7684\u6548\u679c\u3002\n",
      "\n",
      "\u5728\u8fd9\u4e00\u7ae0\u4e2d\uff0c\u6211\u4eec\u770b\u5230\u4e86\u5f88\u591a\u6d41\u884c\u5e7f\u6cdb\u4f7f\u7528\u7684\u6280\u5de7\u8054\u5408\u8d77\u6765\uff0c\u7ed3\u5408\u4e86\u5404\u79cd\u5206\u7c7b\u7b97\u6cd5\u5e76\u6452\u5f03\u4e86\u5b83\u4eec\u4e2a\u4f53\u7684\u7f3a\u9677\u3002\n",
      "\n",
      "\u63a5\u4e0b\u6765\u6211\u4eec\u5b66\u4e60\u7279\u6b8a\u7684\u673a\u5668\u5b66\u4e60\u5e94\u7528--\u60c5\u611f\u5206\u6790\uff0c\u8fd9\u662f\u4e00\u4e2a\u975e\u5e38\u4ee4\u4eba\u5174\u594b\u7684\u8bdd\u9898\uff0c\u5e7f\u6cdb\u5e94\u7528\u4e8e\u793e\u4f1a\u5a92\u4f53\u3002"
     ]
    },
    {
     "cell_type": "code",
     "collapsed": false,
     "input": [],
     "language": "python",
     "metadata": {},
     "outputs": []
    }
   ],
   "metadata": {}
  }
 ]
}