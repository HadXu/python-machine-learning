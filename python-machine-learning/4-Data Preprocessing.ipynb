{
 "metadata": {
  "name": ""
 },
 "nbformat": 3,
 "nbformat_minor": 0,
 "worksheets": [
  {
   "cells": [
    {
     "cell_type": "markdown",
     "metadata": {},
     "source": [
      "##Building Good Training Sets\n",
      "\n",
      "\u5728\u8fdb\u884c\u4e00\u4e2a\u673a\u5668\u5b66\u4e60\u7b97\u6cd5\u4e4b\u524d\uff0c\u9996\u5148\u8fdb\u884c\u6570\u636e\u6e05\u7406\u4e0e\u9884\u5904\u7406\n",
      "\n",
      "The topics that we will cover in this chapter are as follows:\n",
      "\n",
      "*  Removing and imputing missing values from the dataset\n",
      "\n",
      "*  Getting categorical data into shape for machine learning algorithms\n",
      "\n",
      "* Selecting relevant features for the model construction"
     ]
    },
    {
     "cell_type": "code",
     "collapsed": false,
     "input": [
      "import pandas as pd\n",
      "from io import StringIO\n",
      "csv_date = '''A,B,C,D\n",
      "            1.0,2.0,3.0,4.0\n",
      "            5.0,6.0,,8.0\n",
      "            10.0,11.0,12.0,'''\n",
      "csv_data = unicode(csv_date)"
     ],
     "language": "python",
     "metadata": {},
     "outputs": [],
     "prompt_number": 1
    },
    {
     "cell_type": "code",
     "collapsed": false,
     "input": [
      "df = pd.read_csv(StringIO(csv_data))"
     ],
     "language": "python",
     "metadata": {},
     "outputs": [],
     "prompt_number": 2
    },
    {
     "cell_type": "code",
     "collapsed": false,
     "input": [
      "df"
     ],
     "language": "python",
     "metadata": {},
     "outputs": [
      {
       "html": [
        "<div style=\"max-height:1000px;max-width:1500px;overflow:auto;\">\n",
        "<table border=\"1\" class=\"dataframe\">\n",
        "  <thead>\n",
        "    <tr style=\"text-align: right;\">\n",
        "      <th></th>\n",
        "      <th>A</th>\n",
        "      <th>B</th>\n",
        "      <th>C</th>\n",
        "      <th>D</th>\n",
        "    </tr>\n",
        "  </thead>\n",
        "  <tbody>\n",
        "    <tr>\n",
        "      <th>0</th>\n",
        "      <td>  1</td>\n",
        "      <td>  2</td>\n",
        "      <td>  3</td>\n",
        "      <td>  4</td>\n",
        "    </tr>\n",
        "    <tr>\n",
        "      <th>1</th>\n",
        "      <td>  5</td>\n",
        "      <td>  6</td>\n",
        "      <td>NaN</td>\n",
        "      <td>  8</td>\n",
        "    </tr>\n",
        "    <tr>\n",
        "      <th>2</th>\n",
        "      <td> 10</td>\n",
        "      <td> 11</td>\n",
        "      <td> 12</td>\n",
        "      <td>NaN</td>\n",
        "    </tr>\n",
        "  </tbody>\n",
        "</table>\n",
        "<p>3 rows \u00d7 4 columns</p>\n",
        "</div>"
       ],
       "metadata": {},
       "output_type": "pyout",
       "prompt_number": 3,
       "text": [
        "    A   B   C   D\n",
        "0   1   2   3   4\n",
        "1   5   6 NaN   8\n",
        "2  10  11  12 NaN\n",
        "\n",
        "[3 rows x 4 columns]"
       ]
      }
     ],
     "prompt_number": 3
    },
    {
     "cell_type": "code",
     "collapsed": false,
     "input": [
      "df.isnull().sum()"
     ],
     "language": "python",
     "metadata": {},
     "outputs": [
      {
       "metadata": {},
       "output_type": "pyout",
       "prompt_number": 4,
       "text": [
        "A    0\n",
        "B    0\n",
        "C    1\n",
        "D    1\n",
        "dtype: int32"
       ]
      }
     ],
     "prompt_number": 4
    },
    {
     "cell_type": "code",
     "collapsed": false,
     "input": [
      "df.values"
     ],
     "language": "python",
     "metadata": {},
     "outputs": [
      {
       "metadata": {},
       "output_type": "pyout",
       "prompt_number": 5,
       "text": [
        "array([[  1.,   2.,   3.,   4.],\n",
        "       [  5.,   6.,  nan,   8.],\n",
        "       [ 10.,  11.,  12.,  nan]])"
       ]
      }
     ],
     "prompt_number": 5
    },
    {
     "cell_type": "markdown",
     "metadata": {},
     "source": [
      "\u6309\u884c\u6765\u5220\u9664\u542b\u6709nan\u7684\u884c"
     ]
    },
    {
     "cell_type": "code",
     "collapsed": false,
     "input": [
      "df.dropna()"
     ],
     "language": "python",
     "metadata": {},
     "outputs": [
      {
       "html": [
        "<div style=\"max-height:1000px;max-width:1500px;overflow:auto;\">\n",
        "<table border=\"1\" class=\"dataframe\">\n",
        "  <thead>\n",
        "    <tr style=\"text-align: right;\">\n",
        "      <th></th>\n",
        "      <th>A</th>\n",
        "      <th>B</th>\n",
        "      <th>C</th>\n",
        "      <th>D</th>\n",
        "    </tr>\n",
        "  </thead>\n",
        "  <tbody>\n",
        "    <tr>\n",
        "      <th>0</th>\n",
        "      <td> 1</td>\n",
        "      <td> 2</td>\n",
        "      <td> 3</td>\n",
        "      <td> 4</td>\n",
        "    </tr>\n",
        "  </tbody>\n",
        "</table>\n",
        "<p>1 rows \u00d7 4 columns</p>\n",
        "</div>"
       ],
       "metadata": {},
       "output_type": "pyout",
       "prompt_number": 6,
       "text": [
        "   A  B  C  D\n",
        "0  1  2  3  4\n",
        "\n",
        "[1 rows x 4 columns]"
       ]
      }
     ],
     "prompt_number": 6
    },
    {
     "cell_type": "markdown",
     "metadata": {},
     "source": [
      "\u6309\u5217\u6765\u5220\u9664\u542b\u6709nan\u7684\u5217"
     ]
    },
    {
     "cell_type": "code",
     "collapsed": false,
     "input": [
      "df.dropna(axis=1)"
     ],
     "language": "python",
     "metadata": {},
     "outputs": [
      {
       "html": [
        "<div style=\"max-height:1000px;max-width:1500px;overflow:auto;\">\n",
        "<table border=\"1\" class=\"dataframe\">\n",
        "  <thead>\n",
        "    <tr style=\"text-align: right;\">\n",
        "      <th></th>\n",
        "      <th>A</th>\n",
        "      <th>B</th>\n",
        "    </tr>\n",
        "  </thead>\n",
        "  <tbody>\n",
        "    <tr>\n",
        "      <th>0</th>\n",
        "      <td>  1</td>\n",
        "      <td>  2</td>\n",
        "    </tr>\n",
        "    <tr>\n",
        "      <th>1</th>\n",
        "      <td>  5</td>\n",
        "      <td>  6</td>\n",
        "    </tr>\n",
        "    <tr>\n",
        "      <th>2</th>\n",
        "      <td> 10</td>\n",
        "      <td> 11</td>\n",
        "    </tr>\n",
        "  </tbody>\n",
        "</table>\n",
        "<p>3 rows \u00d7 2 columns</p>\n",
        "</div>"
       ],
       "metadata": {},
       "output_type": "pyout",
       "prompt_number": 7,
       "text": [
        "    A   B\n",
        "0   1   2\n",
        "1   5   6\n",
        "2  10  11\n",
        "\n",
        "[3 rows x 2 columns]"
       ]
      }
     ],
     "prompt_number": 7
    },
    {
     "cell_type": "markdown",
     "metadata": {},
     "source": [
      " * only drop rows where all columns are NaN"
     ]
    },
    {
     "cell_type": "code",
     "collapsed": false,
     "input": [
      "df.dropna(how='all')"
     ],
     "language": "python",
     "metadata": {},
     "outputs": [
      {
       "html": [
        "<div style=\"max-height:1000px;max-width:1500px;overflow:auto;\">\n",
        "<table border=\"1\" class=\"dataframe\">\n",
        "  <thead>\n",
        "    <tr style=\"text-align: right;\">\n",
        "      <th></th>\n",
        "      <th>A</th>\n",
        "      <th>B</th>\n",
        "      <th>C</th>\n",
        "      <th>D</th>\n",
        "    </tr>\n",
        "  </thead>\n",
        "  <tbody>\n",
        "    <tr>\n",
        "      <th>0</th>\n",
        "      <td>  1</td>\n",
        "      <td>  2</td>\n",
        "      <td>  3</td>\n",
        "      <td>  4</td>\n",
        "    </tr>\n",
        "    <tr>\n",
        "      <th>1</th>\n",
        "      <td>  5</td>\n",
        "      <td>  6</td>\n",
        "      <td>NaN</td>\n",
        "      <td>  8</td>\n",
        "    </tr>\n",
        "    <tr>\n",
        "      <th>2</th>\n",
        "      <td> 10</td>\n",
        "      <td> 11</td>\n",
        "      <td> 12</td>\n",
        "      <td>NaN</td>\n",
        "    </tr>\n",
        "  </tbody>\n",
        "</table>\n",
        "<p>3 rows \u00d7 4 columns</p>\n",
        "</div>"
       ],
       "metadata": {},
       "output_type": "pyout",
       "prompt_number": 8,
       "text": [
        "    A   B   C   D\n",
        "0   1   2   3   4\n",
        "1   5   6 NaN   8\n",
        "2  10  11  12 NaN\n",
        "\n",
        "[3 rows x 4 columns]"
       ]
      }
     ],
     "prompt_number": 8
    },
    {
     "cell_type": "markdown",
     "metadata": {},
     "source": [
      "* drop rows that have not at least 4 non-NaN values"
     ]
    },
    {
     "cell_type": "code",
     "collapsed": false,
     "input": [
      "df.dropna(thresh=4)"
     ],
     "language": "python",
     "metadata": {},
     "outputs": [
      {
       "html": [
        "<div style=\"max-height:1000px;max-width:1500px;overflow:auto;\">\n",
        "<table border=\"1\" class=\"dataframe\">\n",
        "  <thead>\n",
        "    <tr style=\"text-align: right;\">\n",
        "      <th></th>\n",
        "      <th>A</th>\n",
        "      <th>B</th>\n",
        "      <th>C</th>\n",
        "      <th>D</th>\n",
        "    </tr>\n",
        "  </thead>\n",
        "  <tbody>\n",
        "    <tr>\n",
        "      <th>0</th>\n",
        "      <td> 1</td>\n",
        "      <td> 2</td>\n",
        "      <td> 3</td>\n",
        "      <td> 4</td>\n",
        "    </tr>\n",
        "  </tbody>\n",
        "</table>\n",
        "<p>1 rows \u00d7 4 columns</p>\n",
        "</div>"
       ],
       "metadata": {},
       "output_type": "pyout",
       "prompt_number": 9,
       "text": [
        "   A  B  C  D\n",
        "0  1  2  3  4\n",
        "\n",
        "[1 rows x 4 columns]"
       ]
      }
     ],
     "prompt_number": 9
    },
    {
     "cell_type": "markdown",
     "metadata": {},
     "source": [
      "* only drop rows where NaN appear in specific columns (here: 'C')"
     ]
    },
    {
     "cell_type": "code",
     "collapsed": false,
     "input": [
      "df.dropna(subset=['C'])"
     ],
     "language": "python",
     "metadata": {},
     "outputs": [
      {
       "html": [
        "<div style=\"max-height:1000px;max-width:1500px;overflow:auto;\">\n",
        "<table border=\"1\" class=\"dataframe\">\n",
        "  <thead>\n",
        "    <tr style=\"text-align: right;\">\n",
        "      <th></th>\n",
        "      <th>A</th>\n",
        "      <th>B</th>\n",
        "      <th>C</th>\n",
        "      <th>D</th>\n",
        "    </tr>\n",
        "  </thead>\n",
        "  <tbody>\n",
        "    <tr>\n",
        "      <th>0</th>\n",
        "      <td>  1</td>\n",
        "      <td>  2</td>\n",
        "      <td>  3</td>\n",
        "      <td>  4</td>\n",
        "    </tr>\n",
        "    <tr>\n",
        "      <th>2</th>\n",
        "      <td> 10</td>\n",
        "      <td> 11</td>\n",
        "      <td> 12</td>\n",
        "      <td>NaN</td>\n",
        "    </tr>\n",
        "  </tbody>\n",
        "</table>\n",
        "<p>2 rows \u00d7 4 columns</p>\n",
        "</div>"
       ],
       "metadata": {},
       "output_type": "pyout",
       "prompt_number": 10,
       "text": [
        "    A   B   C   D\n",
        "0   1   2   3   4\n",
        "2  10  11  12 NaN\n",
        "\n",
        "[2 rows x 4 columns]"
       ]
      }
     ],
     "prompt_number": 10
    },
    {
     "cell_type": "markdown",
     "metadata": {},
     "source": [
      "### Imputing missing values\n",
      "Often, the removal of samples or dropping of entire feature columns is simply not feasible, because we might lose too much valuable data. In this case, we can use different interpolation techniques to estimate the missing values from the other training samples in our dataset. One of the most common interpolation techniques is mean imputation, where we simply replace the missing value by the mean value of the entire feature column. "
     ]
    },
    {
     "cell_type": "code",
     "collapsed": false,
     "input": [
      "df"
     ],
     "language": "python",
     "metadata": {},
     "outputs": [
      {
       "html": [
        "<div style=\"max-height:1000px;max-width:1500px;overflow:auto;\">\n",
        "<table border=\"1\" class=\"dataframe\">\n",
        "  <thead>\n",
        "    <tr style=\"text-align: right;\">\n",
        "      <th></th>\n",
        "      <th>A</th>\n",
        "      <th>B</th>\n",
        "      <th>C</th>\n",
        "      <th>D</th>\n",
        "    </tr>\n",
        "  </thead>\n",
        "  <tbody>\n",
        "    <tr>\n",
        "      <th>0</th>\n",
        "      <td>  1</td>\n",
        "      <td>  2</td>\n",
        "      <td>  3</td>\n",
        "      <td>  4</td>\n",
        "    </tr>\n",
        "    <tr>\n",
        "      <th>1</th>\n",
        "      <td>  5</td>\n",
        "      <td>  6</td>\n",
        "      <td>NaN</td>\n",
        "      <td>  8</td>\n",
        "    </tr>\n",
        "    <tr>\n",
        "      <th>2</th>\n",
        "      <td> 10</td>\n",
        "      <td> 11</td>\n",
        "      <td> 12</td>\n",
        "      <td>NaN</td>\n",
        "    </tr>\n",
        "  </tbody>\n",
        "</table>\n",
        "<p>3 rows \u00d7 4 columns</p>\n",
        "</div>"
       ],
       "metadata": {},
       "output_type": "pyout",
       "prompt_number": 11,
       "text": [
        "    A   B   C   D\n",
        "0   1   2   3   4\n",
        "1   5   6 NaN   8\n",
        "2  10  11  12 NaN\n",
        "\n",
        "[3 rows x 4 columns]"
       ]
      }
     ],
     "prompt_number": 11
    },
    {
     "cell_type": "markdown",
     "metadata": {},
     "source": [
      "\u4f7f\u7528\u5217\u7684\u5e73\u5747\u503c\u6765\u8fdb\u884c\u63d2\u5165"
     ]
    },
    {
     "cell_type": "code",
     "collapsed": false,
     "input": [
      "from sklearn.preprocessing import Imputer\n",
      "imr = Imputer(missing_values='NaN', strategy='mean', axis=0)\n",
      "imr = imr.fit(df)\n",
      "imputed_data = imr.transform(df.values)\n",
      "imputed_data"
     ],
     "language": "python",
     "metadata": {},
     "outputs": [
      {
       "metadata": {},
       "output_type": "pyout",
       "prompt_number": 12,
       "text": [
        "array([[  1. ,   2. ,   3. ,   4. ],\n",
        "       [  5. ,   6. ,   7.5,   8. ],\n",
        "       [ 10. ,  11. ,  12. ,   6. ]])"
       ]
      }
     ],
     "prompt_number": 12
    },
    {
     "cell_type": "markdown",
     "metadata": {},
     "source": [
      "\u4f7f\u7528\u884c\u7684\u5e73\u5747\u503c\u6765\u63d2\u5165"
     ]
    },
    {
     "cell_type": "code",
     "collapsed": false,
     "input": [
      "from sklearn.preprocessing import Imputer\n",
      "imr = Imputer(missing_values='NaN', strategy='mean', axis=1)\n",
      "imr = imr.fit(df)\n",
      "imputed_data = imr.transform(df.values)\n",
      "imputed_data"
     ],
     "language": "python",
     "metadata": {},
     "outputs": [
      {
       "metadata": {},
       "output_type": "pyout",
       "prompt_number": 13,
       "text": [
        "array([[  1.        ,   2.        ,   3.        ,   4.        ],\n",
        "       [  5.        ,   6.        ,   6.33333333,   8.        ],\n",
        "       [ 10.        ,  11.        ,  12.        ,  11.        ]])"
       ]
      }
     ],
     "prompt_number": 13
    },
    {
     "cell_type": "markdown",
     "metadata": {},
     "source": [
      "###Handling categorical data"
     ]
    },
    {
     "cell_type": "code",
     "collapsed": false,
     "input": [
      "import pandas as pf\n",
      "df = pd.DataFrame([\n",
      "                   ['green','M',10.1,'class1'],\n",
      "                   ['red','L',13.5,'class2'],\n",
      "                   ['blue','XL',15.3,'class1']\n",
      "                   ])\n",
      "df.columns=['color','size','price','classlabel']\n",
      "df"
     ],
     "language": "python",
     "metadata": {},
     "outputs": [
      {
       "html": [
        "<div style=\"max-height:1000px;max-width:1500px;overflow:auto;\">\n",
        "<table border=\"1\" class=\"dataframe\">\n",
        "  <thead>\n",
        "    <tr style=\"text-align: right;\">\n",
        "      <th></th>\n",
        "      <th>color</th>\n",
        "      <th>size</th>\n",
        "      <th>price</th>\n",
        "      <th>classlabel</th>\n",
        "    </tr>\n",
        "  </thead>\n",
        "  <tbody>\n",
        "    <tr>\n",
        "      <th>0</th>\n",
        "      <td> green</td>\n",
        "      <td>  M</td>\n",
        "      <td> 10.1</td>\n",
        "      <td> class1</td>\n",
        "    </tr>\n",
        "    <tr>\n",
        "      <th>1</th>\n",
        "      <td>   red</td>\n",
        "      <td>  L</td>\n",
        "      <td> 13.5</td>\n",
        "      <td> class2</td>\n",
        "    </tr>\n",
        "    <tr>\n",
        "      <th>2</th>\n",
        "      <td>  blue</td>\n",
        "      <td> XL</td>\n",
        "      <td> 15.3</td>\n",
        "      <td> class1</td>\n",
        "    </tr>\n",
        "  </tbody>\n",
        "</table>\n",
        "<p>3 rows \u00d7 4 columns</p>\n",
        "</div>"
       ],
       "metadata": {},
       "output_type": "pyout",
       "prompt_number": 14,
       "text": [
        "   color size  price classlabel\n",
        "0  green    M   10.1     class1\n",
        "1    red    L   13.5     class2\n",
        "2   blue   XL   15.3     class1\n",
        "\n",
        "[3 rows x 4 columns]"
       ]
      }
     ],
     "prompt_number": 14
    },
    {
     "cell_type": "markdown",
     "metadata": {},
     "source": [
      "* \u5728\u673a\u5668\u5b66\u4e60\u4e4b\u524d\uff0c\u6211\u4eec\u9700\u8981\u5c06\u5b57\u7b26\u4e32\u8f6c\u5316\u4e3a\u6570\u5b57\u7c7b\u578b\u3002\n",
      "* \u4f46\u662f\uff0c\u5728\u8fd9\u4e00\u6b65\u8f6c\u5316\uff0c\u5e76\u6ca1\u6709\u4ec0\u4e48\u7b80\u4fbf\u7684\u65b9\u6cd5\u6765\u5c06\u5b57\u7b26\u4e32\u8f6c\u5316\u4e3a\u6570\u5b57\u7c7b\u578b\u3002\u6211\u4eec\u9700\u8981\u81ea\u5df1\u5b9a\u4e49\u8f6c\u5316\u65b9\u5f0f\uff0c\u6bd4\u5982\uff0c\u5728\u8fd9\u4e2a\u5b9e\u4f8b\u4e2d\uff0cXL = L + 1 = M + 2. "
     ]
    },
    {
     "cell_type": "code",
     "collapsed": false,
     "input": [
      "size_mapping ={'XL':3,'L':2,'M':1}"
     ],
     "language": "python",
     "metadata": {},
     "outputs": [],
     "prompt_number": 15
    },
    {
     "cell_type": "code",
     "collapsed": false,
     "input": [
      "df['size']=df['size'].map(size_mapping)"
     ],
     "language": "python",
     "metadata": {},
     "outputs": [],
     "prompt_number": 16
    },
    {
     "cell_type": "code",
     "collapsed": false,
     "input": [
      "df"
     ],
     "language": "python",
     "metadata": {},
     "outputs": [
      {
       "html": [
        "<div style=\"max-height:1000px;max-width:1500px;overflow:auto;\">\n",
        "<table border=\"1\" class=\"dataframe\">\n",
        "  <thead>\n",
        "    <tr style=\"text-align: right;\">\n",
        "      <th></th>\n",
        "      <th>color</th>\n",
        "      <th>size</th>\n",
        "      <th>price</th>\n",
        "      <th>classlabel</th>\n",
        "    </tr>\n",
        "  </thead>\n",
        "  <tbody>\n",
        "    <tr>\n",
        "      <th>0</th>\n",
        "      <td> green</td>\n",
        "      <td> 1</td>\n",
        "      <td> 10.1</td>\n",
        "      <td> class1</td>\n",
        "    </tr>\n",
        "    <tr>\n",
        "      <th>1</th>\n",
        "      <td>   red</td>\n",
        "      <td> 2</td>\n",
        "      <td> 13.5</td>\n",
        "      <td> class2</td>\n",
        "    </tr>\n",
        "    <tr>\n",
        "      <th>2</th>\n",
        "      <td>  blue</td>\n",
        "      <td> 3</td>\n",
        "      <td> 15.3</td>\n",
        "      <td> class1</td>\n",
        "    </tr>\n",
        "  </tbody>\n",
        "</table>\n",
        "<p>3 rows \u00d7 4 columns</p>\n",
        "</div>"
       ],
       "metadata": {},
       "output_type": "pyout",
       "prompt_number": 17,
       "text": [
        "   color  size  price classlabel\n",
        "0  green     1   10.1     class1\n",
        "1    red     2   13.5     class2\n",
        "2   blue     3   15.3     class1\n",
        "\n",
        "[3 rows x 4 columns]"
       ]
      }
     ],
     "prompt_number": 17
    },
    {
     "cell_type": "code",
     "collapsed": false,
     "input": [
      "inv_size_mapping ={v:k for k,v in size_mapping.items()}"
     ],
     "language": "python",
     "metadata": {},
     "outputs": [],
     "prompt_number": 18
    },
    {
     "cell_type": "code",
     "collapsed": false,
     "input": [
      "df['size']=df['size'].map(inv_size_mapping)"
     ],
     "language": "python",
     "metadata": {},
     "outputs": [],
     "prompt_number": 19
    },
    {
     "cell_type": "code",
     "collapsed": false,
     "input": [
      "df"
     ],
     "language": "python",
     "metadata": {},
     "outputs": [
      {
       "html": [
        "<div style=\"max-height:1000px;max-width:1500px;overflow:auto;\">\n",
        "<table border=\"1\" class=\"dataframe\">\n",
        "  <thead>\n",
        "    <tr style=\"text-align: right;\">\n",
        "      <th></th>\n",
        "      <th>color</th>\n",
        "      <th>size</th>\n",
        "      <th>price</th>\n",
        "      <th>classlabel</th>\n",
        "    </tr>\n",
        "  </thead>\n",
        "  <tbody>\n",
        "    <tr>\n",
        "      <th>0</th>\n",
        "      <td> green</td>\n",
        "      <td>  M</td>\n",
        "      <td> 10.1</td>\n",
        "      <td> class1</td>\n",
        "    </tr>\n",
        "    <tr>\n",
        "      <th>1</th>\n",
        "      <td>   red</td>\n",
        "      <td>  L</td>\n",
        "      <td> 13.5</td>\n",
        "      <td> class2</td>\n",
        "    </tr>\n",
        "    <tr>\n",
        "      <th>2</th>\n",
        "      <td>  blue</td>\n",
        "      <td> XL</td>\n",
        "      <td> 15.3</td>\n",
        "      <td> class1</td>\n",
        "    </tr>\n",
        "  </tbody>\n",
        "</table>\n",
        "<p>3 rows \u00d7 4 columns</p>\n",
        "</div>"
       ],
       "metadata": {},
       "output_type": "pyout",
       "prompt_number": 20,
       "text": [
        "   color size  price classlabel\n",
        "0  green    M   10.1     class1\n",
        "1    red    L   13.5     class2\n",
        "2   blue   XL   15.3     class1\n",
        "\n",
        "[3 rows x 4 columns]"
       ]
      }
     ],
     "prompt_number": 20
    },
    {
     "cell_type": "code",
     "collapsed": false,
     "input": [
      "df['size']=df['size'].map(size_mapping)"
     ],
     "language": "python",
     "metadata": {},
     "outputs": [],
     "prompt_number": 21
    },
    {
     "cell_type": "code",
     "collapsed": false,
     "input": [
      "df"
     ],
     "language": "python",
     "metadata": {},
     "outputs": [
      {
       "html": [
        "<div style=\"max-height:1000px;max-width:1500px;overflow:auto;\">\n",
        "<table border=\"1\" class=\"dataframe\">\n",
        "  <thead>\n",
        "    <tr style=\"text-align: right;\">\n",
        "      <th></th>\n",
        "      <th>color</th>\n",
        "      <th>size</th>\n",
        "      <th>price</th>\n",
        "      <th>classlabel</th>\n",
        "    </tr>\n",
        "  </thead>\n",
        "  <tbody>\n",
        "    <tr>\n",
        "      <th>0</th>\n",
        "      <td> green</td>\n",
        "      <td> 1</td>\n",
        "      <td> 10.1</td>\n",
        "      <td> class1</td>\n",
        "    </tr>\n",
        "    <tr>\n",
        "      <th>1</th>\n",
        "      <td>   red</td>\n",
        "      <td> 2</td>\n",
        "      <td> 13.5</td>\n",
        "      <td> class2</td>\n",
        "    </tr>\n",
        "    <tr>\n",
        "      <th>2</th>\n",
        "      <td>  blue</td>\n",
        "      <td> 3</td>\n",
        "      <td> 15.3</td>\n",
        "      <td> class1</td>\n",
        "    </tr>\n",
        "  </tbody>\n",
        "</table>\n",
        "<p>3 rows \u00d7 4 columns</p>\n",
        "</div>"
       ],
       "metadata": {},
       "output_type": "pyout",
       "prompt_number": 22,
       "text": [
        "   color  size  price classlabel\n",
        "0  green     1   10.1     class1\n",
        "1    red     2   13.5     class2\n",
        "2   blue     3   15.3     class1\n",
        "\n",
        "[3 rows x 4 columns]"
       ]
      }
     ],
     "prompt_number": 22
    },
    {
     "cell_type": "markdown",
     "metadata": {},
     "source": [
      "* Encoding class labels\n",
      "\n",
      "\u5728\u8bb8\u591a\u673a\u5668\u5b66\u4e60\u7b97\u6cd5\u4e2d\uff0c\u6807\u7b7e\u4e00\u822c\u4e3a\u6570\u5b57\u7c7b\u578b\u7684\u3002"
     ]
    },
    {
     "cell_type": "code",
     "collapsed": false,
     "input": [
      "import numpy as np\n",
      "class_mapping = {label:idx for idx,label in enumerate(np.unique(df['classlabel']))}\n",
      "class_mapping"
     ],
     "language": "python",
     "metadata": {},
     "outputs": [
      {
       "metadata": {},
       "output_type": "pyout",
       "prompt_number": 23,
       "text": [
        "{'class1': 0, 'class2': 1}"
       ]
      }
     ],
     "prompt_number": 23
    },
    {
     "cell_type": "code",
     "collapsed": false,
     "input": [
      "df['classlabel'] = df['classlabel'].map(class_mapping)"
     ],
     "language": "python",
     "metadata": {},
     "outputs": [],
     "prompt_number": 24
    },
    {
     "cell_type": "code",
     "collapsed": false,
     "input": [
      "df"
     ],
     "language": "python",
     "metadata": {},
     "outputs": [
      {
       "html": [
        "<div style=\"max-height:1000px;max-width:1500px;overflow:auto;\">\n",
        "<table border=\"1\" class=\"dataframe\">\n",
        "  <thead>\n",
        "    <tr style=\"text-align: right;\">\n",
        "      <th></th>\n",
        "      <th>color</th>\n",
        "      <th>size</th>\n",
        "      <th>price</th>\n",
        "      <th>classlabel</th>\n",
        "    </tr>\n",
        "  </thead>\n",
        "  <tbody>\n",
        "    <tr>\n",
        "      <th>0</th>\n",
        "      <td> green</td>\n",
        "      <td> 1</td>\n",
        "      <td> 10.1</td>\n",
        "      <td> 0</td>\n",
        "    </tr>\n",
        "    <tr>\n",
        "      <th>1</th>\n",
        "      <td>   red</td>\n",
        "      <td> 2</td>\n",
        "      <td> 13.5</td>\n",
        "      <td> 1</td>\n",
        "    </tr>\n",
        "    <tr>\n",
        "      <th>2</th>\n",
        "      <td>  blue</td>\n",
        "      <td> 3</td>\n",
        "      <td> 15.3</td>\n",
        "      <td> 0</td>\n",
        "    </tr>\n",
        "  </tbody>\n",
        "</table>\n",
        "<p>3 rows \u00d7 4 columns</p>\n",
        "</div>"
       ],
       "metadata": {},
       "output_type": "pyout",
       "prompt_number": 25,
       "text": [
        "   color  size  price  classlabel\n",
        "0  green     1   10.1           0\n",
        "1    red     2   13.5           1\n",
        "2   blue     3   15.3           0\n",
        "\n",
        "[3 rows x 4 columns]"
       ]
      }
     ],
     "prompt_number": 25
    },
    {
     "cell_type": "code",
     "collapsed": false,
     "input": [
      "inv_class_mapping ={v:k for k,v in class_mapping.items()}"
     ],
     "language": "python",
     "metadata": {},
     "outputs": [],
     "prompt_number": 26
    },
    {
     "cell_type": "code",
     "collapsed": false,
     "input": [
      "df['classlabel']=df['classlabel'].map(inv_class_mapping)"
     ],
     "language": "python",
     "metadata": {},
     "outputs": [],
     "prompt_number": 27
    },
    {
     "cell_type": "code",
     "collapsed": false,
     "input": [
      "df"
     ],
     "language": "python",
     "metadata": {},
     "outputs": [
      {
       "html": [
        "<div style=\"max-height:1000px;max-width:1500px;overflow:auto;\">\n",
        "<table border=\"1\" class=\"dataframe\">\n",
        "  <thead>\n",
        "    <tr style=\"text-align: right;\">\n",
        "      <th></th>\n",
        "      <th>color</th>\n",
        "      <th>size</th>\n",
        "      <th>price</th>\n",
        "      <th>classlabel</th>\n",
        "    </tr>\n",
        "  </thead>\n",
        "  <tbody>\n",
        "    <tr>\n",
        "      <th>0</th>\n",
        "      <td> green</td>\n",
        "      <td> 1</td>\n",
        "      <td> 10.1</td>\n",
        "      <td> class1</td>\n",
        "    </tr>\n",
        "    <tr>\n",
        "      <th>1</th>\n",
        "      <td>   red</td>\n",
        "      <td> 2</td>\n",
        "      <td> 13.5</td>\n",
        "      <td> class2</td>\n",
        "    </tr>\n",
        "    <tr>\n",
        "      <th>2</th>\n",
        "      <td>  blue</td>\n",
        "      <td> 3</td>\n",
        "      <td> 15.3</td>\n",
        "      <td> class1</td>\n",
        "    </tr>\n",
        "  </tbody>\n",
        "</table>\n",
        "<p>3 rows \u00d7 4 columns</p>\n",
        "</div>"
       ],
       "metadata": {},
       "output_type": "pyout",
       "prompt_number": 28,
       "text": [
        "   color  size  price classlabel\n",
        "0  green     1   10.1     class1\n",
        "1    red     2   13.5     class2\n",
        "2   blue     3   15.3     class1\n",
        "\n",
        "[3 rows x 4 columns]"
       ]
      }
     ],
     "prompt_number": 28
    },
    {
     "cell_type": "code",
     "collapsed": false,
     "input": [
      "df['classlabel'] = df['classlabel'].map(class_mapping)"
     ],
     "language": "python",
     "metadata": {},
     "outputs": [],
     "prompt_number": 29
    },
    {
     "cell_type": "code",
     "collapsed": false,
     "input": [
      "df"
     ],
     "language": "python",
     "metadata": {},
     "outputs": [
      {
       "html": [
        "<div style=\"max-height:1000px;max-width:1500px;overflow:auto;\">\n",
        "<table border=\"1\" class=\"dataframe\">\n",
        "  <thead>\n",
        "    <tr style=\"text-align: right;\">\n",
        "      <th></th>\n",
        "      <th>color</th>\n",
        "      <th>size</th>\n",
        "      <th>price</th>\n",
        "      <th>classlabel</th>\n",
        "    </tr>\n",
        "  </thead>\n",
        "  <tbody>\n",
        "    <tr>\n",
        "      <th>0</th>\n",
        "      <td> green</td>\n",
        "      <td> 1</td>\n",
        "      <td> 10.1</td>\n",
        "      <td> 0</td>\n",
        "    </tr>\n",
        "    <tr>\n",
        "      <th>1</th>\n",
        "      <td>   red</td>\n",
        "      <td> 2</td>\n",
        "      <td> 13.5</td>\n",
        "      <td> 1</td>\n",
        "    </tr>\n",
        "    <tr>\n",
        "      <th>2</th>\n",
        "      <td>  blue</td>\n",
        "      <td> 3</td>\n",
        "      <td> 15.3</td>\n",
        "      <td> 0</td>\n",
        "    </tr>\n",
        "  </tbody>\n",
        "</table>\n",
        "<p>3 rows \u00d7 4 columns</p>\n",
        "</div>"
       ],
       "metadata": {},
       "output_type": "pyout",
       "prompt_number": 30,
       "text": [
        "   color  size  price  classlabel\n",
        "0  green     1   10.1           0\n",
        "1    red     2   13.5           1\n",
        "2   blue     3   15.3           0\n",
        "\n",
        "[3 rows x 4 columns]"
       ]
      }
     ],
     "prompt_number": 30
    },
    {
     "cell_type": "code",
     "collapsed": false,
     "input": [
      "df['classlabel']=df['classlabel'].map(inv_class_mapping)\n",
      "df"
     ],
     "language": "python",
     "metadata": {},
     "outputs": [
      {
       "html": [
        "<div style=\"max-height:1000px;max-width:1500px;overflow:auto;\">\n",
        "<table border=\"1\" class=\"dataframe\">\n",
        "  <thead>\n",
        "    <tr style=\"text-align: right;\">\n",
        "      <th></th>\n",
        "      <th>color</th>\n",
        "      <th>size</th>\n",
        "      <th>price</th>\n",
        "      <th>classlabel</th>\n",
        "    </tr>\n",
        "  </thead>\n",
        "  <tbody>\n",
        "    <tr>\n",
        "      <th>0</th>\n",
        "      <td> green</td>\n",
        "      <td> 1</td>\n",
        "      <td> 10.1</td>\n",
        "      <td> class1</td>\n",
        "    </tr>\n",
        "    <tr>\n",
        "      <th>1</th>\n",
        "      <td>   red</td>\n",
        "      <td> 2</td>\n",
        "      <td> 13.5</td>\n",
        "      <td> class2</td>\n",
        "    </tr>\n",
        "    <tr>\n",
        "      <th>2</th>\n",
        "      <td>  blue</td>\n",
        "      <td> 3</td>\n",
        "      <td> 15.3</td>\n",
        "      <td> class1</td>\n",
        "    </tr>\n",
        "  </tbody>\n",
        "</table>\n",
        "<p>3 rows \u00d7 4 columns</p>\n",
        "</div>"
       ],
       "metadata": {},
       "output_type": "pyout",
       "prompt_number": 31,
       "text": [
        "   color  size  price classlabel\n",
        "0  green     1   10.1     class1\n",
        "1    red     2   13.5     class2\n",
        "2   blue     3   15.3     class1\n",
        "\n",
        "[3 rows x 4 columns]"
       ]
      }
     ],
     "prompt_number": 31
    },
    {
     "cell_type": "code",
     "collapsed": false,
     "input": [
      "from sklearn.preprocessing import LabelEncoder\n",
      "class_le = LabelEncoder()"
     ],
     "language": "python",
     "metadata": {},
     "outputs": [],
     "prompt_number": 32
    },
    {
     "cell_type": "code",
     "collapsed": false,
     "input": [
      "y = class_le.fit_transform(df['classlabel'].values)"
     ],
     "language": "python",
     "metadata": {},
     "outputs": [],
     "prompt_number": 33
    },
    {
     "cell_type": "code",
     "collapsed": false,
     "input": [
      "y"
     ],
     "language": "python",
     "metadata": {},
     "outputs": [
      {
       "metadata": {},
       "output_type": "pyout",
       "prompt_number": 34,
       "text": [
        "array([0, 1, 0])"
       ]
      }
     ],
     "prompt_number": 34
    },
    {
     "cell_type": "code",
     "collapsed": false,
     "input": [
      "X = df[['color', 'size', 'price']].values"
     ],
     "language": "python",
     "metadata": {},
     "outputs": [],
     "prompt_number": 35
    },
    {
     "cell_type": "code",
     "collapsed": false,
     "input": [
      "X"
     ],
     "language": "python",
     "metadata": {},
     "outputs": [
      {
       "metadata": {},
       "output_type": "pyout",
       "prompt_number": 36,
       "text": [
        "array([['green', 1L, 10.1],\n",
        "       ['red', 2L, 13.5],\n",
        "       ['blue', 3L, 15.3]], dtype=object)"
       ]
      }
     ],
     "prompt_number": 36
    },
    {
     "cell_type": "code",
     "collapsed": false,
     "input": [
      "color_le = LabelEncoder()"
     ],
     "language": "python",
     "metadata": {},
     "outputs": [],
     "prompt_number": 37
    },
    {
     "cell_type": "code",
     "collapsed": false,
     "input": [
      "X[:, 0] = color_le.fit_transform(X[:, 0])\n",
      "X"
     ],
     "language": "python",
     "metadata": {},
     "outputs": [
      {
       "metadata": {},
       "output_type": "pyout",
       "prompt_number": 38,
       "text": [
        "array([[1, 1L, 10.1],\n",
        "       [2, 2L, 13.5],\n",
        "       [0, 3L, 15.3]], dtype=object)"
       ]
      }
     ],
     "prompt_number": 38
    },
    {
     "cell_type": "markdown",
     "metadata": {},
     "source": [
      "* \u5728\u8fd9\u91cc\uff0c\u989c\u8272\u6bd4\u8f83\u662f\u6ca1\u6709\u4ec0\u4e48\u610f\u4e49\u7684\uff0c\u867d\u7136\u8fd9\u6837\u4f1a\u6709\u597d\u7684\u6548\u679c\uff0c\u4f46\u5b9e\u9645\u4e0d\u4f1a\u4f7f\u7528\u8fd9\u79cd\u65b9\u6cd5\n",
      "\n",
      "A common workaround for this problem is to use a technique called one-hot encoding.\n",
      "\n",
      "for example, a blue sample can be encoded as blue=1, green=0, red=0."
     ]
    },
    {
     "cell_type": "code",
     "collapsed": false,
     "input": [
      "from sklearn.preprocessing import OneHotEncoder"
     ],
     "language": "python",
     "metadata": {},
     "outputs": [],
     "prompt_number": 39
    },
    {
     "cell_type": "code",
     "collapsed": false,
     "input": [
      "X = df[['color', 'size', 'price']].values\n",
      "ohe = OneHotEncoder(categorical_features=[0])"
     ],
     "language": "python",
     "metadata": {},
     "outputs": [],
     "prompt_number": 40
    },
    {
     "cell_type": "code",
     "collapsed": false,
     "input": [
      "X"
     ],
     "language": "python",
     "metadata": {},
     "outputs": [
      {
       "metadata": {},
       "output_type": "pyout",
       "prompt_number": 41,
       "text": [
        "array([['green', 1L, 10.1],\n",
        "       ['red', 2L, 13.5],\n",
        "       ['blue', 3L, 15.3]], dtype=object)"
       ]
      }
     ],
     "prompt_number": 41
    },
    {
     "cell_type": "code",
     "collapsed": false,
     "input": [
      "X = df[['color', 'size', 'price']].values\n",
      "color_le = LabelEncoder()\n",
      "X[:, 0] = color_le.fit_transform(X[:, 0])\n",
      "X"
     ],
     "language": "python",
     "metadata": {},
     "outputs": [
      {
       "metadata": {},
       "output_type": "pyout",
       "prompt_number": 42,
       "text": [
        "array([[1, 1L, 10.1],\n",
        "       [2, 2L, 13.5],\n",
        "       [0, 3L, 15.3]], dtype=object)"
       ]
      }
     ],
     "prompt_number": 42
    },
    {
     "cell_type": "code",
     "collapsed": false,
     "input": [
      "pd.get_dummies(df[['price', 'color', 'size']])"
     ],
     "language": "python",
     "metadata": {},
     "outputs": [
      {
       "html": [
        "<div style=\"max-height:1000px;max-width:1500px;overflow:auto;\">\n",
        "<table border=\"1\" class=\"dataframe\">\n",
        "  <thead>\n",
        "    <tr style=\"text-align: right;\">\n",
        "      <th></th>\n",
        "      <th>color</th>\n",
        "      <th>price</th>\n",
        "      <th>size</th>\n",
        "    </tr>\n",
        "  </thead>\n",
        "  <tbody>\n",
        "    <tr>\n",
        "      <th>0</th>\n",
        "      <td> 0</td>\n",
        "      <td> 1</td>\n",
        "      <td> 0</td>\n",
        "    </tr>\n",
        "    <tr>\n",
        "      <th>1</th>\n",
        "      <td> 1</td>\n",
        "      <td> 0</td>\n",
        "      <td> 0</td>\n",
        "    </tr>\n",
        "    <tr>\n",
        "      <th>2</th>\n",
        "      <td> 0</td>\n",
        "      <td> 0</td>\n",
        "      <td> 1</td>\n",
        "    </tr>\n",
        "  </tbody>\n",
        "</table>\n",
        "<p>3 rows \u00d7 3 columns</p>\n",
        "</div>"
       ],
       "metadata": {},
       "output_type": "pyout",
       "prompt_number": 43,
       "text": [
        "   color  price  size\n",
        "0      0      1     0\n",
        "1      1      0     0\n",
        "2      0      0     1\n",
        "\n",
        "[3 rows x 3 columns]"
       ]
      }
     ],
     "prompt_number": 43
    },
    {
     "cell_type": "markdown",
     "metadata": {},
     "source": [
      "###Partitioning a dataset in training and test sets"
     ]
    },
    {
     "cell_type": "code",
     "collapsed": false,
     "input": [
      "df_wine = pd.read_csv('https://archive.ics.uci.edu/ml/machine-learning-databases/wine/wine.data', header=None)"
     ],
     "language": "python",
     "metadata": {},
     "outputs": [],
     "prompt_number": 44
    },
    {
     "cell_type": "code",
     "collapsed": false,
     "input": [
      "df_wine.columns = ['Class label', 'Alcohol','Malic acid', 'Ash','Alcalinity of ash', 'Magnesium','Total phenols', 'Flavanoids','Nonflavanoid phenols','Proanthocyanins','Color intensity', 'Hue','OD280/OD315 of diluted wines','Proline'] "
     ],
     "language": "python",
     "metadata": {},
     "outputs": [],
     "prompt_number": 45
    },
    {
     "cell_type": "code",
     "collapsed": false,
     "input": [
      "print 'Class labels', np.unique(df_wine['Class label'])"
     ],
     "language": "python",
     "metadata": {},
     "outputs": [
      {
       "output_type": "stream",
       "stream": "stdout",
       "text": [
        "Class labels [1 2 3]\n"
       ]
      }
     ],
     "prompt_number": 46
    },
    {
     "cell_type": "code",
     "collapsed": false,
     "input": [
      "df_wine.head()"
     ],
     "language": "python",
     "metadata": {},
     "outputs": [
      {
       "html": [
        "<div style=\"max-height:1000px;max-width:1500px;overflow:auto;\">\n",
        "<table border=\"1\" class=\"dataframe\">\n",
        "  <thead>\n",
        "    <tr style=\"text-align: right;\">\n",
        "      <th></th>\n",
        "      <th>Class label</th>\n",
        "      <th>Alcohol</th>\n",
        "      <th>Malic acid</th>\n",
        "      <th>Ash</th>\n",
        "      <th>Alcalinity of ash</th>\n",
        "      <th>Magnesium</th>\n",
        "      <th>Total phenols</th>\n",
        "      <th>Flavanoids</th>\n",
        "      <th>Nonflavanoid phenols</th>\n",
        "      <th>Proanthocyanins</th>\n",
        "      <th>Color intensity</th>\n",
        "      <th>Hue</th>\n",
        "      <th>OD280/OD315 of diluted wines</th>\n",
        "      <th>Proline</th>\n",
        "    </tr>\n",
        "  </thead>\n",
        "  <tbody>\n",
        "    <tr>\n",
        "      <th>0</th>\n",
        "      <td> 1</td>\n",
        "      <td> 14.23</td>\n",
        "      <td> 1.71</td>\n",
        "      <td> 2.43</td>\n",
        "      <td> 15.6</td>\n",
        "      <td> 127</td>\n",
        "      <td> 2.80</td>\n",
        "      <td> 3.06</td>\n",
        "      <td> 0.28</td>\n",
        "      <td> 2.29</td>\n",
        "      <td> 5.64</td>\n",
        "      <td> 1.04</td>\n",
        "      <td> 3.92</td>\n",
        "      <td> 1065</td>\n",
        "    </tr>\n",
        "    <tr>\n",
        "      <th>1</th>\n",
        "      <td> 1</td>\n",
        "      <td> 13.20</td>\n",
        "      <td> 1.78</td>\n",
        "      <td> 2.14</td>\n",
        "      <td> 11.2</td>\n",
        "      <td> 100</td>\n",
        "      <td> 2.65</td>\n",
        "      <td> 2.76</td>\n",
        "      <td> 0.26</td>\n",
        "      <td> 1.28</td>\n",
        "      <td> 4.38</td>\n",
        "      <td> 1.05</td>\n",
        "      <td> 3.40</td>\n",
        "      <td> 1050</td>\n",
        "    </tr>\n",
        "    <tr>\n",
        "      <th>2</th>\n",
        "      <td> 1</td>\n",
        "      <td> 13.16</td>\n",
        "      <td> 2.36</td>\n",
        "      <td> 2.67</td>\n",
        "      <td> 18.6</td>\n",
        "      <td> 101</td>\n",
        "      <td> 2.80</td>\n",
        "      <td> 3.24</td>\n",
        "      <td> 0.30</td>\n",
        "      <td> 2.81</td>\n",
        "      <td> 5.68</td>\n",
        "      <td> 1.03</td>\n",
        "      <td> 3.17</td>\n",
        "      <td> 1185</td>\n",
        "    </tr>\n",
        "    <tr>\n",
        "      <th>3</th>\n",
        "      <td> 1</td>\n",
        "      <td> 14.37</td>\n",
        "      <td> 1.95</td>\n",
        "      <td> 2.50</td>\n",
        "      <td> 16.8</td>\n",
        "      <td> 113</td>\n",
        "      <td> 3.85</td>\n",
        "      <td> 3.49</td>\n",
        "      <td> 0.24</td>\n",
        "      <td> 2.18</td>\n",
        "      <td> 7.80</td>\n",
        "      <td> 0.86</td>\n",
        "      <td> 3.45</td>\n",
        "      <td> 1480</td>\n",
        "    </tr>\n",
        "    <tr>\n",
        "      <th>4</th>\n",
        "      <td> 1</td>\n",
        "      <td> 13.24</td>\n",
        "      <td> 2.59</td>\n",
        "      <td> 2.87</td>\n",
        "      <td> 21.0</td>\n",
        "      <td> 118</td>\n",
        "      <td> 2.80</td>\n",
        "      <td> 2.69</td>\n",
        "      <td> 0.39</td>\n",
        "      <td> 1.82</td>\n",
        "      <td> 4.32</td>\n",
        "      <td> 1.04</td>\n",
        "      <td> 2.93</td>\n",
        "      <td>  735</td>\n",
        "    </tr>\n",
        "  </tbody>\n",
        "</table>\n",
        "<p>5 rows \u00d7 14 columns</p>\n",
        "</div>"
       ],
       "metadata": {},
       "output_type": "pyout",
       "prompt_number": 47,
       "text": [
        "   Class label  Alcohol  Malic acid   Ash  Alcalinity of ash  Magnesium  \\\n",
        "0            1    14.23        1.71  2.43               15.6        127   \n",
        "1            1    13.20        1.78  2.14               11.2        100   \n",
        "2            1    13.16        2.36  2.67               18.6        101   \n",
        "3            1    14.37        1.95  2.50               16.8        113   \n",
        "4            1    13.24        2.59  2.87               21.0        118   \n",
        "\n",
        "   Total phenols  Flavanoids  Nonflavanoid phenols  Proanthocyanins  \\\n",
        "0           2.80        3.06                  0.28             2.29   \n",
        "1           2.65        2.76                  0.26             1.28   \n",
        "2           2.80        3.24                  0.30             2.81   \n",
        "3           3.85        3.49                  0.24             2.18   \n",
        "4           2.80        2.69                  0.39             1.82   \n",
        "\n",
        "   Color intensity   Hue  OD280/OD315 of diluted wines  Proline  \n",
        "0             5.64  1.04                          3.92     1065  \n",
        "1             4.38  1.05                          3.40     1050  \n",
        "2             5.68  1.03                          3.17     1185  \n",
        "3             7.80  0.86                          3.45     1480  \n",
        "4             4.32  1.04                          2.93      735  \n",
        "\n",
        "[5 rows x 14 columns]"
       ]
      }
     ],
     "prompt_number": 47
    },
    {
     "cell_type": "code",
     "collapsed": false,
     "input": [
      "from sklearn.cross_validation import train_test_split"
     ],
     "language": "python",
     "metadata": {},
     "outputs": [],
     "prompt_number": 48
    },
    {
     "cell_type": "code",
     "collapsed": false,
     "input": [
      "X, y = df_wine.iloc[:,1:].values,df_wine.iloc[:,0].values"
     ],
     "language": "python",
     "metadata": {},
     "outputs": [],
     "prompt_number": 49
    },
    {
     "cell_type": "code",
     "collapsed": false,
     "input": [
      "X_train, X_test, y_train, y_test = train_test_split(X,y,test_size=0.3,random_state=0)"
     ],
     "language": "python",
     "metadata": {},
     "outputs": [],
     "prompt_number": 50
    },
    {
     "cell_type": "markdown",
     "metadata": {},
     "source": [
      "* \u6570\u636e\u6807\u51c6\u5316\n",
      "$$\n",
      "x^{(i)}_{norm} = \\frac{x^{(i)}-x_{min}}{x_{max}-x_{min}}\n",
      "$$"
     ]
    },
    {
     "cell_type": "code",
     "collapsed": false,
     "input": [
      "from sklearn.preprocessing import MinMaxScaler\n",
      "mms = MinMaxScaler()"
     ],
     "language": "python",
     "metadata": {},
     "outputs": [],
     "prompt_number": 51
    },
    {
     "cell_type": "code",
     "collapsed": false,
     "input": [
      "X_train_norm = mms.fit_transform(X_train)\n",
      "X_test_norm = mms.transform(X_test)"
     ],
     "language": "python",
     "metadata": {},
     "outputs": [],
     "prompt_number": 52
    },
    {
     "cell_type": "markdown",
     "metadata": {},
     "source": [
      "* \u4e0d\u8fc7\u5b9e\u9645\u4e2d\u66f4\u591a\u4f7f\u7528\u6b63\u5219\u5316\n",
      "$$\n",
      "x^{(i)}_{std} = \\frac{x^{(i)}-\\mu_x}{\\sigma_x}\n",
      "$$"
     ]
    },
    {
     "cell_type": "code",
     "collapsed": false,
     "input": [
      "from sklearn.preprocessing import StandardScaler\n",
      "stdsc = StandardScaler()"
     ],
     "language": "python",
     "metadata": {},
     "outputs": [],
     "prompt_number": 53
    },
    {
     "cell_type": "code",
     "collapsed": false,
     "input": [
      "X_train_std = stdsc.fit_transform(X_train)\n",
      "X_test_std = stdsc.fit_transform(X_test)"
     ],
     "language": "python",
     "metadata": {},
     "outputs": [],
     "prompt_number": 54
    },
    {
     "cell_type": "markdown",
     "metadata": {},
     "source": [
      "####Selecting meaningful features\n",
      "\n",
      "##Sparse solutions with L1 and L2 regularization\n",
      "$$\n",
      "L2:||w||^2_2 = \\sum_{j=1}^{m}{w^2_j}\n",
      "$$\n",
      "$$\n",
      "L1: ||w||_1 = \\sum_{j=1}^m{|w_j|}\n",
      "$$"
     ]
    },
    {
     "cell_type": "code",
     "collapsed": false,
     "input": [
      "from sklearn.linear_model import LogisticRegression\n",
      "lr = LogisticRegression(penalty='l1', C=0.1)"
     ],
     "language": "python",
     "metadata": {},
     "outputs": [],
     "prompt_number": 55
    },
    {
     "cell_type": "code",
     "collapsed": false,
     "input": [
      "lr.fit(X_train_std, y_train)\n",
      "print('Training accuracy:', lr.score(X_train_std, y_train))"
     ],
     "language": "python",
     "metadata": {},
     "outputs": [
      {
       "output_type": "stream",
       "stream": "stdout",
       "text": [
        "('Training accuracy:', 0.9838709677419355)\n"
       ]
      }
     ],
     "prompt_number": 56
    },
    {
     "cell_type": "code",
     "collapsed": false,
     "input": [
      "print('Test accuracy:', lr.score(X_test_std, y_test))"
     ],
     "language": "python",
     "metadata": {},
     "outputs": [
      {
       "output_type": "stream",
       "stream": "stdout",
       "text": [
        "('Test accuracy:', 0.98148148148148151)\n"
       ]
      }
     ],
     "prompt_number": 57
    },
    {
     "cell_type": "code",
     "collapsed": false,
     "input": [
      "lr.intercept_"
     ],
     "language": "python",
     "metadata": {},
     "outputs": [
      {
       "metadata": {},
       "output_type": "pyout",
       "prompt_number": 58,
       "text": [
        "array([-0.38380714, -0.15807147, -0.70041783])"
       ]
      }
     ],
     "prompt_number": 58
    },
    {
     "cell_type": "code",
     "collapsed": false,
     "input": [
      "lr.coef_"
     ],
     "language": "python",
     "metadata": {},
     "outputs": [
      {
       "metadata": {},
       "output_type": "pyout",
       "prompt_number": 59,
       "text": [
        "array([[ 0.27986331,  0.        ,  0.        , -0.02801593,  0.        ,\n",
        "         0.        ,  0.70973582,  0.        ,  0.        ,  0.        ,\n",
        "         0.        ,  0.        ,  1.23666041],\n",
        "       [-0.64411067, -0.06872877, -0.05719939,  0.        ,  0.        ,\n",
        "         0.        ,  0.        ,  0.        ,  0.        , -0.92668514,\n",
        "         0.06034749,  0.        , -0.37105904],\n",
        "       [ 0.        ,  0.06153272,  0.        ,  0.        ,  0.        ,\n",
        "         0.        , -0.63602738,  0.        ,  0.        ,  0.49811712,\n",
        "        -0.35822031, -0.57121444,  0.        ]])"
       ]
      }
     ],
     "prompt_number": 59
    },
    {
     "cell_type": "code",
     "collapsed": false,
     "input": [
      "%pylab inline"
     ],
     "language": "python",
     "metadata": {},
     "outputs": [
      {
       "output_type": "stream",
       "stream": "stdout",
       "text": [
        "Populating the interactive namespace from numpy and matplotlib\n"
       ]
      }
     ],
     "prompt_number": 60
    },
    {
     "cell_type": "code",
     "collapsed": false,
     "input": [
      "import matplotlib.pyplot as plt\n",
      "fig = plt.figure()\n",
      "ax = plt.subplot(111)\n",
      "colors = ['blue', 'green', 'red', 'cyan','magenta', 'yellow', 'black','pink', 'lightgreen', 'lightblue','gray', 'indigo', 'orange']\n",
      "weights, params = [], []\n",
      "for c in np.arange(-4, 6):\n",
      "    lr = LogisticRegression(penalty='l1',C=10**c,random_state=0)\n",
      "    lr.fit(X_train_std, y_train)\n",
      "    weights.append(lr.coef_[1])\n",
      "    params.append(10**c)\n",
      "weights = np.array(weights)\n",
      "for column, color in zip(range(weights.shape[1]), colors):\n",
      "    plt.plot(params, weights[:, column],label=df_wine.columns[column+1],color=color)\n",
      "plt.axhline(0, color='black', linestyle='--', linewidth=3)\n",
      "plt.xlim([10**(-5), 10**5])\n",
      "plt.ylabel('weight coefficient')\n",
      "plt.xlabel('C')\n",
      "plt.xscale('log')\n",
      "plt.legend(loc='upper left')\n",
      "ax.legend(loc='upper center',bbox_to_anchor=(1.38, 1.03),ncol=1, fancybox=True)\n",
      "plt.show()"
     ],
     "language": "python",
     "metadata": {},
     "outputs": [
      {
       "metadata": {},
       "output_type": "display_data",
       "png": "[encoded data removed]",
       "text": [
        "<matplotlib.figure.Figure at 0x1557c2e8>"
       ]
      }
     ],
     "prompt_number": 61
    },
    {
     "cell_type": "markdown",
     "metadata": {},
     "source": [
      "###Sequential feature selection algorithms\n",
      "####dimensionality reduction\n",
      "* feature selection\n",
      "\n",
      "* feature extraction"
     ]
    },
    {
     "cell_type": "code",
     "collapsed": false,
     "input": [
      "from sklearn.neighbors import KNeighborsClassifier\n",
      "knn = KNeighborsClassifier(n_neighbors=2)\n",
      "knn.fit(X_train_std, y_train)\n",
      "print('Training accuracy:', knn.score(X_train_std, y_train))"
     ],
     "language": "python",
     "metadata": {},
     "outputs": [
      {
       "output_type": "stream",
       "stream": "stdout",
       "text": [
        "('Training accuracy:', 0.9838709677419355)\n"
       ]
      }
     ],
     "prompt_number": 62
    },
    {
     "cell_type": "code",
     "collapsed": false,
     "input": [
      "print('Test accuracy:', knn.score(X_test_std, y_test))"
     ],
     "language": "python",
     "metadata": {},
     "outputs": [
      {
       "output_type": "stream",
       "stream": "stdout",
       "text": [
        "('Test accuracy:', 0.94444444444444442)\n"
       ]
      }
     ],
     "prompt_number": 63
    },
    {
     "cell_type": "markdown",
     "metadata": {},
     "source": [
      "* \u5728\u5f88\u591a\u673a\u5668\u5b66\u4e60\u573a\u5408\u4e2d\uff0c\u9700\u8981\u5224\u65ad\u67d0\u4e00\u4e2a\u56e0\u7d20\u5bf9\u6574\u4f53\u7684\u5f71\u54cd\u5927\u5c0f\uff0c\u6bd4\u5982\u5728kaggle\u7684\u6cf0\u5766\u5c3c\u514b\u53f7\u4e2d\uff0c\u6027\u522b\u4e0e\u5e74\u9f84\u5bf9\u7ed3\u679c\u7684\u5f71\u54cd\u6700\u5927\u3002\n",
      "####\u5728\u8fd9\u91cc\u6211\u4eec\u7528\u968f\u673a\u68ee\u6797\u6765\u8bc4\u4f30\u67d0\u4e00\u4e2a\u7279\u5f81\u5bf9\u7ed3\u679c\u7684\u5f71\u54cd\u3002"
     ]
    },
    {
     "cell_type": "code",
     "collapsed": false,
     "input": [
      "from sklearn.ensemble import RandomForestClassifier\n",
      "feat_labels = df_wine.columns[1:]\n",
      "forest = RandomForestClassifier(n_estimators=10000,random_state=0,n_jobs=-1)"
     ],
     "language": "python",
     "metadata": {},
     "outputs": [],
     "prompt_number": 64
    },
    {
     "cell_type": "code",
     "collapsed": false,
     "input": [
      " forest.fit(X_train, y_train)"
     ],
     "language": "python",
     "metadata": {},
     "outputs": [
      {
       "metadata": {},
       "output_type": "pyout",
       "prompt_number": 65,
       "text": [
        "RandomForestClassifier(bootstrap=True, compute_importances=None,\n",
        "            criterion='gini', max_depth=None, max_features='auto',\n",
        "            min_density=None, min_samples_leaf=1, min_samples_split=2,\n",
        "            n_estimators=10000, n_jobs=-1, oob_score=False, random_state=0,\n",
        "            verbose=0)"
       ]
      }
     ],
     "prompt_number": 65
    },
    {
     "cell_type": "code",
     "collapsed": false,
     "input": [
      "importances = forest.feature_importances_\n",
      "indices = np.argsort(importances)[::-1]\n",
      "for f in range(X_train.shape[1]):\n",
      "    print(\"%2d) %-*s %f\" % (f + 1, 30, feat_labels[f],importances[indices[f]]))"
     ],
     "language": "python",
     "metadata": {},
     "outputs": [
      {
       "output_type": "stream",
       "stream": "stdout",
       "text": [
        " 1) Alcohol                        0.184362\n",
        " 2) Malic acid                     0.157915\n",
        " 3) Ash                            0.150921\n",
        " 4) Alcalinity of ash              0.124696\n",
        " 5) Magnesium                      0.107721\n",
        " 6) Total phenols                  0.079199\n",
        " 7) Flavanoids                     0.061978\n",
        " 8) Nonflavanoid phenols           0.032217\n",
        " 9) Proanthocyanins                0.026085\n",
        "10) Color intensity                0.024186\n",
        "11) Hue                            0.023411\n",
        "12) OD280/OD315 of diluted wines   0.013912\n",
        "13) Proline                        0.013397\n"
       ]
      }
     ],
     "prompt_number": 72
    },
    {
     "cell_type": "code",
     "collapsed": false,
     "input": [
      "plt.title('Feature Importances')\n",
      "plt.bar(range(X_train.shape[1]), importances[indices],color='lightblue', align='center')\n",
      "plt.xticks(range(X_train.shape[1]),feat_labels, rotation=90)\n",
      "plt.xlim([-1, X_train.shape[1]])\n",
      "plt.tight_layout()\n",
      "plt.show()"
     ],
     "language": "python",
     "metadata": {},
     "outputs": [
      {
       "metadata": {},
       "output_type": "display_data",
       "png": "[encoded data removed]",
       "text": [
        "<matplotlib.figure.Figure at 0x199ed6a0>"
       ]
      }
     ],
     "prompt_number": 73
    },
    {
     "cell_type": "code",
     "collapsed": false,
     "input": [
      "X_selected = forest.transform(X_train, threshold=0.15)\n",
      "X_selected.shape"
     ],
     "language": "python",
     "metadata": {},
     "outputs": [
      {
       "metadata": {},
       "output_type": "pyout",
       "prompt_number": 74,
       "text": [
        "(124L, 3L)"
       ]
      }
     ],
     "prompt_number": 74
    },
    {
     "cell_type": "code",
     "collapsed": false,
     "input": [],
     "language": "python",
     "metadata": {},
     "outputs": []
    }
   ],
   "metadata": {}
  }
 ]
}