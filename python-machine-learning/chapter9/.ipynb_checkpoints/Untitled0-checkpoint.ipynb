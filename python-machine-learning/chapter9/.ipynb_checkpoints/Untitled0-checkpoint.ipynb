{
 "metadata": {
  "name": ""
 },
 "nbformat": 3,
 "nbformat_minor": 0,
 "worksheets": [
  {
   "cells": [
    {
     "cell_type": "markdown",
     "metadata": {},
     "source": [
      "#Embedding a Machine Learning Model into a Web Application"
     ]
    },
    {
     "cell_type": "markdown",
     "metadata": {},
     "source": [
      "\u5728\u524d\u9762\u7684\u7ae0\u8282\u4e2d\uff0c\u6211\u4eec\u5b66\u4f1a\u4e86\u8bb8\u591a\u4e0d\u540c\u7684\u7b97\u6cd5\u5e2e\u52a9\u6211\u4eec\u8fdb\u884c\u597d\u7684\u51b3\u7b56\uff0c\u4f46\u662f\uff0c\u673a\u5668\u5b66\u4e60\u7b97\u6cd5\u4e0d\u4ec5\u4ec5\u5c40\u9650\u4e8e\u73b0\u7ebf\u4e0b\u5206\u6790\uff0c\u4ed6\u4eec\u4e5f\u80fd\u591f\u7528\u4e8eweb\u670d\u52a1\u5668\u3002\n",
      "\u5728\u8fd9\u4e00\u7ae0\u4e2d\uff0c\u4f60\u5c06\u4f1a\u5b66\u4e60\u5230\u5982\u4f55\u5c06\u673a\u5668\u5b66\u4e60\u7b97\u6cd5\u5d4c\u5165\u5230web\u5e94\u7528\u7a0b\u5e8f\u4e2d\uff0c\u5b9e\u65f6\u5730\u68c0\u6d4b\uff0c\u5e76\u4e14\u4e5f\u80fd\u591f\u5b9e\u65f6\u5b66\u4e60\u3002\u8fd9\u4e00\u7ae0\u5c06\u5305\u62ec\uff1a\n",
      "\n",
      "* \u5c06\u8bad\u7ec3\u597d\u7684\u7b97\u6cd5\u6a21\u578b\u4fdd\u5b58\u8d77\u6765\n",
      "\n",
      "* \u4f7f\u7528sqlite\u6570\u636e\u5e93\u5b58\u50a8\u6570\u636e\n",
      "\n",
      "* \u4f7f\u7528flask\u6846\u67b6\u5f00\u53d1web\u5e94\u7528\u7a0b\u5e8f\n",
      "\n",
      "* \u5f00\u53d1\u4e00\u4e2a\u516c\u5171\u7684\u673a\u5668\u5b66\u4e60\u5e94\u7528\u7a0b\u5e8f\n"
     ]
    },
    {
     "cell_type": "markdown",
     "metadata": {},
     "source": [
      "##Serializing fitted scikit-learn estimators\n",
      "\u8bad\u7ec3\u4e00\u4e2a\u673a\u5668\u5b66\u4e60\u7b97\u6cd5\u6a21\u578b\u662f\u975e\u5e38\u8017\u65f6\u95f4\u7684\uff0c\u5728\u7b2c\u516b\u7ae0\u4e2d\u53ef\u4ee5\u770b\u5230\u3002\u56e0\u6b64\uff0c\u6211\u4eec\u4e0d\u5e0c\u671b\u6bcf\u6b21\u90fd\u8981\u8bad\u7ec3\u6a21\u578b\u3002\u5728python\u4e2d\uff0cpickle\u6a21\u5757\u5c31\u53ef\u4ee5\u5c06\u8bad\u7ec3\u597d\u7684\u6a21\u578b\u4fdd\u5b58\u8d77\u6765\uff0c\u7b49\u9700\u8981\u7684\u65f6\u5019\u76f4\u63a5\u7528\u5373\u53ef\u3002\u53e6\u4e00\u4e2a\u53ef\u4ee5\u9009\u62e9\u7684\u529e\u6cd5\u5c31\u662f\u4f7f\u7528scikit-learn\u4e2d\u7684joblib\u6765\u4fdd\u5b58\u8bad\u7ec3\u597d\u7684\u6a21\u578b\u3002"
     ]
    },
    {
     "cell_type": "markdown",
     "metadata": {},
     "source": [
      "##Setting up a SQLite database for data storage\n",
      "\u5728\u8fd9\u4e00\u8282\u4e2d\uff0c\u6211\u4eec\u4f7f\u7528sqlite\u6570\u636e\u5e93\u6765\u5b58\u50a8\u6570\u636e\u3002"
     ]
    },
    {
     "cell_type": "code",
     "collapsed": false,
     "input": [
      "import sqlite3\n",
      "import os"
     ],
     "language": "python",
     "metadata": {},
     "outputs": [],
     "prompt_number": 3
    },
    {
     "cell_type": "code",
     "collapsed": false,
     "input": [
      "conn = sqlite3.connect('reviews.sqlite')"
     ],
     "language": "python",
     "metadata": {},
     "outputs": [],
     "prompt_number": 4
    },
    {
     "cell_type": "code",
     "collapsed": false,
     "input": [
      "c = conn.cursor()"
     ],
     "language": "python",
     "metadata": {},
     "outputs": [],
     "prompt_number": 5
    },
    {
     "cell_type": "code",
     "collapsed": false,
     "input": [
      "c.execute('CREATE TABLE review_db (review TEXT, sentiment INTEGER, date TEXT) ')"
     ],
     "language": "python",
     "metadata": {},
     "outputs": [
      {
       "metadata": {},
       "output_type": "pyout",
       "prompt_number": 6,
       "text": [
        "<sqlite3.Cursor at 0x502a490>"
       ]
      }
     ],
     "prompt_number": 6
    },
    {
     "cell_type": "code",
     "collapsed": false,
     "input": [
      "example1 = 'I love this movie'\n",
      "c.execute(\"INSERT INTO review_db(review, sentiment, date) VALUES (?,?,DATETIME('now'))\",(example1,1))"
     ],
     "language": "python",
     "metadata": {},
     "outputs": [
      {
       "metadata": {},
       "output_type": "pyout",
       "prompt_number": 7,
       "text": [
        "<sqlite3.Cursor at 0x502a490>"
       ]
      }
     ],
     "prompt_number": 7
    },
    {
     "cell_type": "code",
     "collapsed": false,
     "input": [
      "example2 = 'I disliked this movie'\n",
      "c.execute(\"INSERT INTO review_db(review, sentiment, date) VALUES (?,?,DATETIME('now'))\",(example2,0))"
     ],
     "language": "python",
     "metadata": {},
     "outputs": [
      {
       "metadata": {},
       "output_type": "pyout",
       "prompt_number": 8,
       "text": [
        "<sqlite3.Cursor at 0x502a490>"
       ]
      }
     ],
     "prompt_number": 8
    },
    {
     "cell_type": "code",
     "collapsed": false,
     "input": [
      "conn.commit()\n",
      "conn.close()"
     ],
     "language": "python",
     "metadata": {},
     "outputs": [],
     "prompt_number": 9
    },
    {
     "cell_type": "code",
     "collapsed": false,
     "input": [
      "conn = sqlite3.connect('reviews.sqlite')"
     ],
     "language": "python",
     "metadata": {},
     "outputs": [],
     "prompt_number": 10
    },
    {
     "cell_type": "code",
     "collapsed": false,
     "input": [
      "c = conn.cursor()\n",
      "c.execute(\"SELECT * FROM review_db WHERE date BETWEEN '2015-01-01 00:00:00' AND DATETIME('now')\")"
     ],
     "language": "python",
     "metadata": {},
     "outputs": [
      {
       "metadata": {},
       "output_type": "pyout",
       "prompt_number": 11,
       "text": [
        "<sqlite3.Cursor at 0x502ab90>"
       ]
      }
     ],
     "prompt_number": 11
    },
    {
     "cell_type": "code",
     "collapsed": false,
     "input": [
      "results = c.fetchall()"
     ],
     "language": "python",
     "metadata": {},
     "outputs": [],
     "prompt_number": 12
    },
    {
     "cell_type": "code",
     "collapsed": false,
     "input": [
      "conn.close()\n",
      "print results"
     ],
     "language": "python",
     "metadata": {},
     "outputs": [
      {
       "output_type": "stream",
       "stream": "stdout",
       "text": [
        "[(u'I love this movie', 1, u'2015-11-21 12:48:08'), (u'I disliked this movie', 0, u'2015-11-21 12:48:32')]\n"
       ]
      }
     ],
     "prompt_number": 13
    },
    {
     "cell_type": "markdown",
     "metadata": {},
     "source": [
      "##Developing a web application with Flask"
     ]
    },
    {
     "cell_type": "code",
     "collapsed": false,
     "input": [],
     "language": "python",
     "metadata": {},
     "outputs": []
    }
   ],
   "metadata": {}
  }
 ]
}